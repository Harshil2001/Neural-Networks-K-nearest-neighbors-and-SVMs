{
  "cells": [
    {
      "cell_type": "code",
      "source": [
        "# To train the model faster, kindly install the following\n",
        "\n",
        "!pip install scikit-learn-intelex"
      ],
      "metadata": {
        "colab": {
          "base_uri": "https://localhost:8080/"
        },
        "id": "JyNZgTkC6pXv",
        "outputId": "7c5cd84b-6ea2-49f7-b216-550e7af4b48c"
      },
      "execution_count": null,
      "outputs": [
        {
          "output_type": "stream",
          "name": "stdout",
          "text": [
            "Looking in indexes: https://pypi.org/simple, https://us-python.pkg.dev/colab-wheels/public/simple/\n",
            "Requirement already satisfied: scikit-learn-intelex in /usr/local/lib/python3.8/dist-packages (2023.0.1)\n",
            "Requirement already satisfied: daal4py==2023.0.1 in /usr/local/lib/python3.8/dist-packages (from scikit-learn-intelex) (2023.0.1)\n",
            "Requirement already satisfied: scikit-learn>=0.22 in /usr/local/lib/python3.8/dist-packages (from scikit-learn-intelex) (1.2.1)\n",
            "Requirement already satisfied: numpy>=1.15 in /usr/local/lib/python3.8/dist-packages (from daal4py==2023.0.1->scikit-learn-intelex) (1.22.4)\n",
            "Requirement already satisfied: daal==2023.0.1 in /usr/local/lib/python3.8/dist-packages (from daal4py==2023.0.1->scikit-learn-intelex) (2023.0.1)\n",
            "Requirement already satisfied: tbb==2021.* in /usr/local/lib/python3.8/dist-packages (from daal==2023.0.1->daal4py==2023.0.1->scikit-learn-intelex) (2021.8.0)\n",
            "Requirement already satisfied: threadpoolctl>=2.0.0 in /usr/local/lib/python3.8/dist-packages (from scikit-learn>=0.22->scikit-learn-intelex) (3.1.0)\n",
            "Requirement already satisfied: scipy>=1.3.2 in /usr/local/lib/python3.8/dist-packages (from scikit-learn>=0.22->scikit-learn-intelex) (1.10.1)\n",
            "Requirement already satisfied: joblib>=1.1.1 in /usr/local/lib/python3.8/dist-packages (from scikit-learn>=0.22->scikit-learn-intelex) (1.2.0)\n"
          ]
        }
      ]
    },
    {
      "cell_type": "code",
      "execution_count": null,
      "metadata": {
        "id": "MM4npY6_Zec1",
        "colab": {
          "base_uri": "https://localhost:8080/"
        },
        "outputId": "a67a2f1d-17c8-42dd-9da9-029a5c6644eb"
      },
      "outputs": [
        {
          "output_type": "stream",
          "name": "stderr",
          "text": [
            "Intel(R) Extension for Scikit-learn* enabled (https://github.com/intel/scikit-learn-intelex)\n"
          ]
        }
      ],
      "source": [
        "# import necessary libraries\n",
        "\n",
        "import numpy as np\n",
        "import matplotlib.pyplot as plt\n",
        "import pandas as pd\n",
        "\n",
        "from sklearnex import patch_sklearn\n",
        "patch_sklearn()\n",
        "\n",
        "from sklearn.neighbors import KNeighborsClassifier\n",
        "from sklearn import metrics\n",
        "from sklearn.metrics import accuracy_score"
      ]
    },
    {
      "cell_type": "code",
      "execution_count": null,
      "metadata": {
        "id": "mu9aKCUAZec4",
        "colab": {
          "base_uri": "https://localhost:8080/"
        },
        "outputId": "26e614de-446e-495d-b833-a7d0ae4b6182"
      },
      "outputs": [
        {
          "output_type": "stream",
          "name": "stderr",
          "text": [
            "/usr/local/lib/python3.8/dist-packages/sklearn/datasets/_openml.py:932: FutureWarning: The default value of `parser` will change from `'liac-arff'` to `'auto'` in 1.4. You can set `parser='auto'` to silence this warning. Therefore, an `ImportError` will be raised from 1.4 if the dataset is dense and pandas is not installed. Note that the pandas parser may return different data types. See the Notes Section in fetch_openml's API doc for details.\n",
            "  warn(\n"
          ]
        }
      ],
      "source": [
        "from sklearn.datasets import fetch_openml\n",
        "# Load data from https://www.openml.org/d/554\n",
        "X, y = fetch_openml('mnist_784', version=1, return_X_y=True)\n",
        "X = X / 255.\n",
        "\n",
        "# rescale the data, use the traditional train/test split\n",
        "X_train, X_test = X[:60000], X[60000:]\n",
        "y_train, y_test = y[:60000], y[60000:]"
      ]
    },
    {
      "cell_type": "code",
      "source": [
        "# creating a dataframe to store results\n",
        "df_results = pd.DataFrame(columns=['N_neighbor', 'Weights', 'Algorithm', 'Leaf size', 'Metric', 'Error'])"
      ],
      "metadata": {
        "id": "ecoRMBkcqzWk"
      },
      "execution_count": null,
      "outputs": []
    },
    {
      "cell_type": "code",
      "source": [
        "knncls = KNeighborsClassifier(n_neighbors=5, weights='uniform', algorithm='auto', leaf_size=30, metric='minkowski', n_jobs=-1)\n",
        "knncls.fit(X_train, y_train)\n",
        "y_pred = knncls.predict(X_test)\n",
        "err = 1 - accuracy_score(y_test, y_pred)\n",
        "df_results = df_results.append({'N_neighbor': 5, 'Weights': 'uniform', 'Algorithm': 'auto', 'Leaf size': 30, 'Metric': 'minkowski', 'Error': err}, ignore_index=True)"
      ],
      "metadata": {
        "id": "Vtbdub-UuDKV"
      },
      "execution_count": null,
      "outputs": []
    },
    {
      "cell_type": "code",
      "execution_count": null,
      "metadata": {
        "id": "geaIZV_qZec-"
      },
      "outputs": [],
      "source": [
        "knncls = KNeighborsClassifier(n_neighbors=5, weights='uniform', algorithm='ball_tree', leaf_size=10, metric='euclidean', n_jobs=-1)\n",
        "knncls.fit(X_train, y_train)\n",
        "y_pred = knncls.predict(X_test)\n",
        "err = 1 - accuracy_score(y_test, y_pred)\n",
        "df_results = df_results.append({'N_neighbor': 5, 'Weights': 'uniform', 'Algorithm': 'ball_tree', 'Leaf size': 10, 'Metric': 'euclidean', 'Error': err}, ignore_index=True)"
      ]
    },
    {
      "cell_type": "code",
      "execution_count": null,
      "metadata": {
        "id": "lIdHdwXFZec7"
      },
      "outputs": [],
      "source": [
        "knncls = KNeighborsClassifier(n_neighbors=3, weights='distance', algorithm='ball_tree', leaf_size=10, metric='euclidean', n_jobs=-1)\n",
        "knncls.fit(X_train, y_train)\n",
        "y_pred = knncls.predict(X_test)\n",
        "err = 1 - accuracy_score(y_test, y_pred)\n",
        "df_results = df_results.append({'N_neighbor': 3, 'Weights': 'distance', 'Algorithm': 'ball_tree', 'Leaf size': 10, 'Metric': 'euclidean', 'Error': err}, ignore_index=True)"
      ]
    },
    {
      "cell_type": "code",
      "source": [
        "knncls = KNeighborsClassifier(n_neighbors=3, weights='uniform', algorithm='auto', leaf_size=30, metric='manhattan', n_jobs=-1)\n",
        "knncls.fit(X_train, y_train)\n",
        "y_pred = knncls.predict(X_test)\n",
        "err = 1 - accuracy_score(y_test, y_pred)\n",
        "df_results = df_results.append({'N_neighbor': 3, 'Weights': 'uniform', 'Algorithm': 'auto', 'Leaf size': 30, 'Metric': 'manhattan', 'Error': err}, ignore_index=True)"
      ],
      "metadata": {
        "id": "11d6BUv12ea7"
      },
      "execution_count": null,
      "outputs": []
    },
    {
      "cell_type": "code",
      "execution_count": null,
      "metadata": {
        "id": "G6DKrvuiZec-"
      },
      "outputs": [],
      "source": [
        "knncls = KNeighborsClassifier(n_neighbors=7, weights='uniform', algorithm='auto', leaf_size=30, metric='euclidean', n_jobs=-1)\n",
        "knncls.fit(X_train, y_train)\n",
        "y_pred = knncls.predict(X_test)\n",
        "err = 1 - accuracy_score(y_test, y_pred)\n",
        "df_results = df_results.append({'N_neighbor': 7, 'Weights': 'uniform', 'Algorithm': 'auto', 'Leaf size': 30, 'Metric': 'euclidean', 'Error': err}, ignore_index=True)"
      ]
    },
    {
      "cell_type": "code",
      "execution_count": null,
      "metadata": {
        "id": "KO3mimVIZec_"
      },
      "outputs": [],
      "source": [
        "knncls = KNeighborsClassifier(n_neighbors=7, weights='distance', algorithm='ball_tree', leaf_size=10, metric='minkowski', n_jobs=-1)\n",
        "knncls.fit(X_train, y_train)\n",
        "y_pred = knncls.predict(X_test)\n",
        "err = 1 - accuracy_score(y_test, y_pred)\n",
        "df_results = df_results.append({'N_neighbor': 7, 'Weights': 'distance', 'Algorithm': 'ball_tree', 'Leaf size': 10, 'Metric': 'minkowski', 'Error': err}, ignore_index=True)"
      ]
    },
    {
      "cell_type": "code",
      "source": [
        "knncls = KNeighborsClassifier(n_neighbors=9, weights='distance', algorithm='ball_tree', leaf_size=10, metric='manhattan', n_jobs=-1)\n",
        "knncls.fit(X_train, y_train)\n",
        "y_pred = knncls.predict(X_test)\n",
        "err = 1 - accuracy_score(y_test, y_pred)\n",
        "df_results = df_results.append({'N_neighbor': 9, 'Weights': 'distance', 'Algorithm': 'ball_tree', 'Leaf size': 10, 'Metric': 'manhattan', 'Error': err}, ignore_index=True)"
      ],
      "metadata": {
        "id": "BP0eBtWjGYJS"
      },
      "execution_count": null,
      "outputs": []
    },
    {
      "cell_type": "code",
      "source": [
        "knncls = KNeighborsClassifier(n_neighbors=9, weights='uniform', algorithm='auto', leaf_size=10, metric='minkowski', n_jobs=-1)\n",
        "knncls.fit(X_train, y_train)\n",
        "y_pred = knncls.predict(X_test)\n",
        "err = 1 - accuracy_score(y_test, y_pred)\n",
        "df_results = df_results.append({'N_neighbor': 9, 'Weights': 'uniform', 'Algorithm': 'auto', 'Leaf size': 10, 'Metric': 'minkowski', 'Error': err}, ignore_index=True)"
      ],
      "metadata": {
        "id": "53GK4hHBJj2S"
      },
      "execution_count": null,
      "outputs": []
    },
    {
      "cell_type": "code",
      "source": [
        "knncls = KNeighborsClassifier(n_neighbors=11, weights='uniform', algorithm='auto', leaf_size=10, metric='manhattan', n_jobs=-1)\n",
        "knncls.fit(X_train, y_train)\n",
        "y_pred = knncls.predict(X_test)\n",
        "err = 1 - accuracy_score(y_test, y_pred)\n",
        "df_results = df_results.append({'N_neighbor': 11, 'Weights': 'uniform', 'Algorithm': 'auto', 'Leaf size': 10, 'Metric': 'manhattan', 'Error': err}, ignore_index=True)"
      ],
      "metadata": {
        "id": "Sq1-cPpKK3uI"
      },
      "execution_count": null,
      "outputs": []
    },
    {
      "cell_type": "code",
      "source": [
        "knncls = KNeighborsClassifier(n_neighbors=11, weights='uniform', algorithm='brute', leaf_size=10, metric='minkowski', n_jobs=-1)\n",
        "knncls.fit(X_train, y_train)\n",
        "y_pred = knncls.predict(X_test)\n",
        "err = 1 - accuracy_score(y_test, y_pred)\n",
        "df_results = df_results.append({'N_neighbor': 11, 'Weights': 'uniform', 'Algorithm': 'brute', 'Leaf size': 10, 'Metric': 'minkowski', 'Error': err}, ignore_index=True)"
      ],
      "metadata": {
        "id": "v6EqbLFQMSvs"
      },
      "execution_count": null,
      "outputs": []
    },
    {
      "cell_type": "code",
      "source": [
        "df_results"
      ],
      "metadata": {
        "colab": {
          "base_uri": "https://localhost:8080/",
          "height": 363
        },
        "id": "9EWzq0xzNFwi",
        "outputId": "4ac125ee-6489-409b-f2ff-da5eaf853a67"
      },
      "execution_count": null,
      "outputs": [
        {
          "output_type": "execute_result",
          "data": {
            "text/plain": [
              "  N_neighbor   Weights  Algorithm Leaf size     Metric   Error\n",
              "0          5   uniform       auto        30  minkowski  0.0312\n",
              "1          5   uniform  ball_tree        10  euclidean  0.0312\n",
              "2          3  distance  ball_tree        10  euclidean  0.0283\n",
              "3          3   uniform       auto        30  manhattan  0.0367\n",
              "4          7   uniform       auto        30  euclidean  0.0306\n",
              "5          7  distance  ball_tree        10  minkowski  0.0300\n",
              "6          9  distance  ball_tree        10  manhattan  0.0395\n",
              "7          9   uniform       auto        10  minkowski  0.0341\n",
              "8         11   uniform       auto        10  manhattan  0.0415\n",
              "9         11   uniform      brute        10  minkowski  0.0332"
            ],
            "text/html": [
              "\n",
              "  <div id=\"df-a1f49786-984f-4ed3-b131-92c0812df2f9\">\n",
              "    <div class=\"colab-df-container\">\n",
              "      <div>\n",
              "<style scoped>\n",
              "    .dataframe tbody tr th:only-of-type {\n",
              "        vertical-align: middle;\n",
              "    }\n",
              "\n",
              "    .dataframe tbody tr th {\n",
              "        vertical-align: top;\n",
              "    }\n",
              "\n",
              "    .dataframe thead th {\n",
              "        text-align: right;\n",
              "    }\n",
              "</style>\n",
              "<table border=\"1\" class=\"dataframe\">\n",
              "  <thead>\n",
              "    <tr style=\"text-align: right;\">\n",
              "      <th></th>\n",
              "      <th>N_neighbor</th>\n",
              "      <th>Weights</th>\n",
              "      <th>Algorithm</th>\n",
              "      <th>Leaf size</th>\n",
              "      <th>Metric</th>\n",
              "      <th>Error</th>\n",
              "    </tr>\n",
              "  </thead>\n",
              "  <tbody>\n",
              "    <tr>\n",
              "      <th>0</th>\n",
              "      <td>5</td>\n",
              "      <td>uniform</td>\n",
              "      <td>auto</td>\n",
              "      <td>30</td>\n",
              "      <td>minkowski</td>\n",
              "      <td>0.0312</td>\n",
              "    </tr>\n",
              "    <tr>\n",
              "      <th>1</th>\n",
              "      <td>5</td>\n",
              "      <td>uniform</td>\n",
              "      <td>ball_tree</td>\n",
              "      <td>10</td>\n",
              "      <td>euclidean</td>\n",
              "      <td>0.0312</td>\n",
              "    </tr>\n",
              "    <tr>\n",
              "      <th>2</th>\n",
              "      <td>3</td>\n",
              "      <td>distance</td>\n",
              "      <td>ball_tree</td>\n",
              "      <td>10</td>\n",
              "      <td>euclidean</td>\n",
              "      <td>0.0283</td>\n",
              "    </tr>\n",
              "    <tr>\n",
              "      <th>3</th>\n",
              "      <td>3</td>\n",
              "      <td>uniform</td>\n",
              "      <td>auto</td>\n",
              "      <td>30</td>\n",
              "      <td>manhattan</td>\n",
              "      <td>0.0367</td>\n",
              "    </tr>\n",
              "    <tr>\n",
              "      <th>4</th>\n",
              "      <td>7</td>\n",
              "      <td>uniform</td>\n",
              "      <td>auto</td>\n",
              "      <td>30</td>\n",
              "      <td>euclidean</td>\n",
              "      <td>0.0306</td>\n",
              "    </tr>\n",
              "    <tr>\n",
              "      <th>5</th>\n",
              "      <td>7</td>\n",
              "      <td>distance</td>\n",
              "      <td>ball_tree</td>\n",
              "      <td>10</td>\n",
              "      <td>minkowski</td>\n",
              "      <td>0.0300</td>\n",
              "    </tr>\n",
              "    <tr>\n",
              "      <th>6</th>\n",
              "      <td>9</td>\n",
              "      <td>distance</td>\n",
              "      <td>ball_tree</td>\n",
              "      <td>10</td>\n",
              "      <td>manhattan</td>\n",
              "      <td>0.0395</td>\n",
              "    </tr>\n",
              "    <tr>\n",
              "      <th>7</th>\n",
              "      <td>9</td>\n",
              "      <td>uniform</td>\n",
              "      <td>auto</td>\n",
              "      <td>10</td>\n",
              "      <td>minkowski</td>\n",
              "      <td>0.0341</td>\n",
              "    </tr>\n",
              "    <tr>\n",
              "      <th>8</th>\n",
              "      <td>11</td>\n",
              "      <td>uniform</td>\n",
              "      <td>auto</td>\n",
              "      <td>10</td>\n",
              "      <td>manhattan</td>\n",
              "      <td>0.0415</td>\n",
              "    </tr>\n",
              "    <tr>\n",
              "      <th>9</th>\n",
              "      <td>11</td>\n",
              "      <td>uniform</td>\n",
              "      <td>brute</td>\n",
              "      <td>10</td>\n",
              "      <td>minkowski</td>\n",
              "      <td>0.0332</td>\n",
              "    </tr>\n",
              "  </tbody>\n",
              "</table>\n",
              "</div>\n",
              "      <button class=\"colab-df-convert\" onclick=\"convertToInteractive('df-a1f49786-984f-4ed3-b131-92c0812df2f9')\"\n",
              "              title=\"Convert this dataframe to an interactive table.\"\n",
              "              style=\"display:none;\">\n",
              "        \n",
              "  <svg xmlns=\"http://www.w3.org/2000/svg\" height=\"24px\"viewBox=\"0 0 24 24\"\n",
              "       width=\"24px\">\n",
              "    <path d=\"M0 0h24v24H0V0z\" fill=\"none\"/>\n",
              "    <path d=\"M18.56 5.44l.94 2.06.94-2.06 2.06-.94-2.06-.94-.94-2.06-.94 2.06-2.06.94zm-11 1L8.5 8.5l.94-2.06 2.06-.94-2.06-.94L8.5 2.5l-.94 2.06-2.06.94zm10 10l.94 2.06.94-2.06 2.06-.94-2.06-.94-.94-2.06-.94 2.06-2.06.94z\"/><path d=\"M17.41 7.96l-1.37-1.37c-.4-.4-.92-.59-1.43-.59-.52 0-1.04.2-1.43.59L10.3 9.45l-7.72 7.72c-.78.78-.78 2.05 0 2.83L4 21.41c.39.39.9.59 1.41.59.51 0 1.02-.2 1.41-.59l7.78-7.78 2.81-2.81c.8-.78.8-2.07 0-2.86zM5.41 20L4 18.59l7.72-7.72 1.47 1.35L5.41 20z\"/>\n",
              "  </svg>\n",
              "      </button>\n",
              "      \n",
              "  <style>\n",
              "    .colab-df-container {\n",
              "      display:flex;\n",
              "      flex-wrap:wrap;\n",
              "      gap: 12px;\n",
              "    }\n",
              "\n",
              "    .colab-df-convert {\n",
              "      background-color: #E8F0FE;\n",
              "      border: none;\n",
              "      border-radius: 50%;\n",
              "      cursor: pointer;\n",
              "      display: none;\n",
              "      fill: #1967D2;\n",
              "      height: 32px;\n",
              "      padding: 0 0 0 0;\n",
              "      width: 32px;\n",
              "    }\n",
              "\n",
              "    .colab-df-convert:hover {\n",
              "      background-color: #E2EBFA;\n",
              "      box-shadow: 0px 1px 2px rgba(60, 64, 67, 0.3), 0px 1px 3px 1px rgba(60, 64, 67, 0.15);\n",
              "      fill: #174EA6;\n",
              "    }\n",
              "\n",
              "    [theme=dark] .colab-df-convert {\n",
              "      background-color: #3B4455;\n",
              "      fill: #D2E3FC;\n",
              "    }\n",
              "\n",
              "    [theme=dark] .colab-df-convert:hover {\n",
              "      background-color: #434B5C;\n",
              "      box-shadow: 0px 1px 3px 1px rgba(0, 0, 0, 0.15);\n",
              "      filter: drop-shadow(0px 1px 2px rgba(0, 0, 0, 0.3));\n",
              "      fill: #FFFFFF;\n",
              "    }\n",
              "  </style>\n",
              "\n",
              "      <script>\n",
              "        const buttonEl =\n",
              "          document.querySelector('#df-a1f49786-984f-4ed3-b131-92c0812df2f9 button.colab-df-convert');\n",
              "        buttonEl.style.display =\n",
              "          google.colab.kernel.accessAllowed ? 'block' : 'none';\n",
              "\n",
              "        async function convertToInteractive(key) {\n",
              "          const element = document.querySelector('#df-a1f49786-984f-4ed3-b131-92c0812df2f9');\n",
              "          const dataTable =\n",
              "            await google.colab.kernel.invokeFunction('convertToInteractive',\n",
              "                                                     [key], {});\n",
              "          if (!dataTable) return;\n",
              "\n",
              "          const docLinkHtml = 'Like what you see? Visit the ' +\n",
              "            '<a target=\"_blank\" href=https://colab.research.google.com/notebooks/data_table.ipynb>data table notebook</a>'\n",
              "            + ' to learn more about interactive tables.';\n",
              "          element.innerHTML = '';\n",
              "          dataTable['output_type'] = 'display_data';\n",
              "          await google.colab.output.renderOutput(dataTable, element);\n",
              "          const docLink = document.createElement('div');\n",
              "          docLink.innerHTML = docLinkHtml;\n",
              "          element.appendChild(docLink);\n",
              "        }\n",
              "      </script>\n",
              "    </div>\n",
              "  </div>\n",
              "  "
            ]
          },
          "metadata": {},
          "execution_count": 26
        }
      ]
    }
  ],
  "metadata": {
    "colab": {
      "provenance": []
    },
    "kernelspec": {
      "display_name": "Python 3",
      "language": "python",
      "name": "python3"
    },
    "language_info": {
      "codemirror_mode": {
        "name": "ipython",
        "version": 3
      },
      "file_extension": ".py",
      "mimetype": "text/x-python",
      "name": "python",
      "nbconvert_exporter": "python",
      "pygments_lexer": "ipython3",
      "version": "3.7.6"
    }
  },
  "nbformat": 4,
  "nbformat_minor": 0
}