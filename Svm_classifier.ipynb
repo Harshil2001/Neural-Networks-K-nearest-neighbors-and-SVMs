{
  "nbformat": 4,
  "nbformat_minor": 0,
  "metadata": {
    "colab": {
      "provenance": []
    },
    "kernelspec": {
      "display_name": "Python 3",
      "name": "python3"
    },
    "language_info": {
      "name": "python"
    }
  },
  "cells": [
    {
      "cell_type": "code",
      "source": [
        "# To train the model faster, kindly install the following\n",
        "\n",
        "!pip install scikit-learn-intelex"
      ],
      "metadata": {
        "colab": {
          "base_uri": "https://localhost:8080/"
        },
        "id": "QKB_pOKX1QuO",
        "outputId": "ec862ee2-95c9-4b20-f98b-d4c58fd3fee0"
      },
      "execution_count": 1,
      "outputs": [
        {
          "output_type": "stream",
          "name": "stdout",
          "text": [
            "Looking in indexes: https://pypi.org/simple, https://us-python.pkg.dev/colab-wheels/public/simple/\n",
            "Collecting scikit-learn-intelex\n",
            "  Downloading scikit_learn_intelex-2023.0.1-py38-none-manylinux1_x86_64.whl (83 kB)\n",
            "\u001b[2K     \u001b[90m━━━━━━━━━━━━━━━━━━━━━━━━━━━━━━━━━━━━━━━\u001b[0m \u001b[32m83.0/83.0 KB\u001b[0m \u001b[31m936.0 kB/s\u001b[0m eta \u001b[36m0:00:00\u001b[0m\n",
            "\u001b[?25hRequirement already satisfied: scikit-learn>=0.22 in /usr/local/lib/python3.8/dist-packages (from scikit-learn-intelex) (1.2.1)\n",
            "Collecting daal4py==2023.0.1\n",
            "  Downloading daal4py-2023.0.1-py38-none-manylinux1_x86_64.whl (12.6 MB)\n",
            "\u001b[2K     \u001b[90m━━━━━━━━━━━━━━━━━━━━━━━━━━━━━━━━━━━━━━━━\u001b[0m \u001b[32m12.6/12.6 MB\u001b[0m \u001b[31m28.4 MB/s\u001b[0m eta \u001b[36m0:00:00\u001b[0m\n",
            "\u001b[?25hCollecting daal==2023.0.1\n",
            "  Downloading daal-2023.0.1-py2.py3-none-manylinux1_x86_64.whl (85.5 MB)\n",
            "\u001b[2K     \u001b[90m━━━━━━━━━━━━━━━━━━━━━━━━━━━━━━━━━━━━━━━━\u001b[0m \u001b[32m85.5/85.5 MB\u001b[0m \u001b[31m8.7 MB/s\u001b[0m eta \u001b[36m0:00:00\u001b[0m\n",
            "\u001b[?25hRequirement already satisfied: numpy>=1.15 in /usr/local/lib/python3.8/dist-packages (from daal4py==2023.0.1->scikit-learn-intelex) (1.22.4)\n",
            "Collecting tbb==2021.*\n",
            "  Downloading tbb-2021.8.0-py2.py3-none-manylinux1_x86_64.whl (4.0 MB)\n",
            "\u001b[2K     \u001b[90m━━━━━━━━━━━━━━━━━━━━━━━━━━━━━━━━━━━━━━━━\u001b[0m \u001b[32m4.0/4.0 MB\u001b[0m \u001b[31m13.1 MB/s\u001b[0m eta \u001b[36m0:00:00\u001b[0m\n",
            "\u001b[?25hRequirement already satisfied: joblib>=1.1.1 in /usr/local/lib/python3.8/dist-packages (from scikit-learn>=0.22->scikit-learn-intelex) (1.2.0)\n",
            "Requirement already satisfied: threadpoolctl>=2.0.0 in /usr/local/lib/python3.8/dist-packages (from scikit-learn>=0.22->scikit-learn-intelex) (3.1.0)\n",
            "Requirement already satisfied: scipy>=1.3.2 in /usr/local/lib/python3.8/dist-packages (from scikit-learn>=0.22->scikit-learn-intelex) (1.10.1)\n",
            "Installing collected packages: tbb, daal, daal4py, scikit-learn-intelex\n",
            "Successfully installed daal-2023.0.1 daal4py-2023.0.1 scikit-learn-intelex-2023.0.1 tbb-2021.8.0\n"
          ]
        }
      ]
    },
    {
      "cell_type": "code",
      "metadata": {
        "id": "AqgTwPiuAR4R",
        "colab": {
          "base_uri": "https://localhost:8080/"
        },
        "outputId": "4e0d293b-d16f-46fc-cc43-2009358d6a66"
      },
      "source": [
        "# import necessary libraries\n",
        "\n",
        "import numpy as np\n",
        "import pandas as pd\n",
        "\n",
        "from sklearnex import patch_sklearn\n",
        "patch_sklearn()\n",
        "\n",
        "from sklearn.metrics import accuracy_score\n",
        "from sklearn import svm\n",
        "from sklearn.svm import SVC"
      ],
      "execution_count": 2,
      "outputs": [
        {
          "output_type": "stream",
          "name": "stderr",
          "text": [
            "Intel(R) Extension for Scikit-learn* enabled (https://github.com/intel/scikit-learn-intelex)\n"
          ]
        }
      ]
    },
    {
      "cell_type": "code",
      "metadata": {
        "id": "VtNuSDwIAVDZ",
        "colab": {
          "base_uri": "https://localhost:8080/"
        },
        "outputId": "0cd3a87b-f44a-4a9d-f6c7-c062ece44cef"
      },
      "source": [
        "from sklearn.datasets import fetch_openml\n",
        "# Load data from https://www.openml.org/d/554\n",
        "X, y = fetch_openml('mnist_784', version=1, return_X_y=True)\n",
        "X = X / 255.\n",
        "\n",
        "# rescale the data, use the traditional train/test split\n",
        "X_train, X_test = X[:60000], X[60000:]\n",
        "y_train, y_test = y[:60000], y[60000:]\n"
      ],
      "execution_count": 3,
      "outputs": [
        {
          "output_type": "stream",
          "name": "stderr",
          "text": [
            "/usr/local/lib/python3.8/dist-packages/sklearn/datasets/_openml.py:932: FutureWarning: The default value of `parser` will change from `'liac-arff'` to `'auto'` in 1.4. You can set `parser='auto'` to silence this warning. Therefore, an `ImportError` will be raised from 1.4 if the dataset is dense and pandas is not installed. Note that the pandas parser may return different data types. See the Notes Section in fetch_openml's API doc for details.\n",
            "  warn(\n"
          ]
        }
      ]
    },
    {
      "cell_type": "code",
      "source": [
        "# creating a dataframe to store results\n",
        "df_results = pd.DataFrame(columns=['Kernel', 'Reg param', 'COEF0', 'Degree', 'Cache', 'Class Weight', 'Error'])"
      ],
      "metadata": {
        "id": "8ngLsofX88iK"
      },
      "execution_count": 4,
      "outputs": []
    },
    {
      "cell_type": "code",
      "metadata": {
        "id": "4PnlwJyUYFqc"
      },
      "source": [
        "clf = svm.SVC(kernel='rbf', C=1, class_weight='balanced' ) \n",
        "clf.fit(X_train, y_train) \n",
        "y_pred = clf.predict(X_test)\n",
        "err = 1 -  accuracy_score(y_test, y_pred)\n",
        "df_results = df_results.append({'Kernel': 'rbf', 'Reg param': 1, 'COEF0': 0, 'Degree': 3, 'Cache': 200, 'Class Weight': 'balanced', 'Error': err}, ignore_index=True)"
      ],
      "execution_count": 5,
      "outputs": []
    },
    {
      "cell_type": "code",
      "metadata": {
        "id": "Miiu8rmgYFkv"
      },
      "source": [
        "clf = svm.SVC(kernel='poly', degree=4, class_weight='balanced' ) \n",
        "clf.fit(X_train, y_train) \n",
        "y_pred = clf.predict(X_test)\n",
        "err = 1 -  accuracy_score(y_test, y_pred)\n",
        "df_results = df_results.append({'Kernel': 'poly', 'Reg param': 1, 'COEF0': 0, 'Degree': 4, 'Cache': 200, 'Class Weight': 'balanced', 'Error': err}, ignore_index=True)"
      ],
      "execution_count": 6,
      "outputs": []
    },
    {
      "cell_type": "code",
      "metadata": {
        "id": "JNc7AbGtF04o"
      },
      "source": [
        "clf = svm.SVC(kernel='linear', C=1) \n",
        "clf.fit(X_train, y_train) \n",
        "y_pred = clf.predict(X_test)\n",
        "err = 1 -  accuracy_score(y_test, y_pred)\n",
        "df_results = df_results.append({'Kernel': 'linear', 'Reg param': 1, 'COEF0': 0, 'Degree': 3, 'Cache': 200, 'Class Weight': 'None', 'Error': err}, ignore_index=True)"
      ],
      "execution_count": 7,
      "outputs": []
    },
    {
      "cell_type": "code",
      "metadata": {
        "id": "07CNWomEAWRV"
      },
      "source": [
        "# kernel rbf and penalty = 1\n",
        "clf = svm.SVC(kernel='rbf', C=1) \n",
        "clf.fit(X_train, y_train) \n",
        "y_pred = clf.predict(X_test)\n",
        "err = 1 -  accuracy_score(y_test, y_pred)\n",
        "df_results = df_results.append({'Kernel': 'rbf', 'Reg param': 1, 'COEF0': 0, 'Degree': 3, 'Cache': 200, 'Class Weight': 'None', 'Error': err}, ignore_index=True)"
      ],
      "execution_count": 8,
      "outputs": []
    },
    {
      "cell_type": "code",
      "metadata": {
        "id": "swW_5upDF1DU"
      },
      "source": [
        "clf = svm.SVC(kernel='rbf', C=0.9, cache_size=300)\n",
        "clf.fit(X_train, y_train) \n",
        "y_pred = clf.predict(X_test)\n",
        "err =  1 - accuracy_score(y_test, y_pred)\n",
        "df_results = df_results.append({'Kernel': 'rbf', 'Reg param': 0.9, 'COEF0': 0, 'Degree': 3, 'Cache': 300, 'Class Weight': 'None', 'Error': err}, ignore_index=True)"
      ],
      "execution_count": 9,
      "outputs": []
    },
    {
      "cell_type": "code",
      "metadata": {
        "id": "ZYInjDyyF0u1"
      },
      "source": [
        "clf = svm.SVC(kernel='poly', C=1, degree=3) \n",
        "clf.fit(X_train, y_train) \n",
        "y_pred = clf.predict(X_test)\n",
        "err = 1 -  accuracy_score(y_test, y_pred)\n",
        "df_results = df_results.append({'Kernel': 'poly', 'Reg param': 1, 'COEF0': 0, 'Degree': 3, 'Cache': 200, 'Class Weight': 'None', 'Error': err}, ignore_index=True)"
      ],
      "execution_count": 10,
      "outputs": []
    },
    {
      "cell_type": "code",
      "metadata": {
        "id": "eZRVTr7ytaK3"
      },
      "source": [
        "clf = svm.SVC(kernel='poly', C=0.5, degree=3) \n",
        "clf.fit(X_train, y_train) \n",
        "y_pred = clf.predict(X_test)\n",
        "err = 1 -  accuracy_score(y_test, y_pred)\n",
        "df_results = df_results.append({'Kernel': 'poly', 'Reg param': 0.5, 'COEF0': 0, 'Degree': 3, 'Cache': 200, 'Class Weight': 'None', 'Error': err}, ignore_index=True)"
      ],
      "execution_count": 11,
      "outputs": []
    },
    {
      "cell_type": "code",
      "metadata": {
        "id": "9lMtVrPitdNz"
      },
      "source": [
        "clf = svm.SVC(kernel='poly', C=1.5, degree=3) \n",
        "clf.fit(X_train, y_train) \n",
        "y_pred = clf.predict(X_test)\n",
        "err = 1 -  accuracy_score(y_test, y_pred)\n",
        "df_results = df_results.append({'Kernel': 'poly', 'Reg param': 1.5, 'COEF0': 0, 'Degree': 3, 'Cache': 200, 'Class Weight': 'None', 'Error': err}, ignore_index=True)"
      ],
      "execution_count": 12,
      "outputs": []
    },
    {
      "cell_type": "code",
      "metadata": {
        "id": "RR-QYPH1F0kY"
      },
      "source": [
        "clf = svm.SVC(kernel='poly', C=0.5, degree=4) \n",
        "clf.fit(X_train, y_train) \n",
        "y_pred = clf.predict(X_test)\n",
        "err = 1 -  accuracy_score(y_test, y_pred)\n",
        "df_results = df_results.append({'Kernel': 'poly', 'Reg param': 0.5, 'COEF0': 0, 'Degree': 4, 'Cache': 200, 'Class Weight': 'None', 'Error': err}, ignore_index=True)"
      ],
      "execution_count": 13,
      "outputs": []
    },
    {
      "cell_type": "code",
      "metadata": {
        "id": "NuUmaam1rp48"
      },
      "source": [
        "clf = svm.SVC(kernel='poly', C=1, degree=2) \n",
        "clf.fit(X_train, y_train) \n",
        "y_pred = clf.predict(X_test)\n",
        "err = 1 -  accuracy_score(y_test, y_pred)\n",
        "df_results = df_results.append({'Kernel': 'poly', 'Reg param': 1, 'COEF0': 0, 'Degree': 2, 'Cache': 200, 'Class Weight': 'None', 'Error': err}, ignore_index=True)"
      ],
      "execution_count": 14,
      "outputs": []
    },
    {
      "cell_type": "code",
      "metadata": {
        "id": "G1m1aaLirp1l"
      },
      "source": [
        "clf = svm.SVC(kernel='sigmoid', C=1) \n",
        "clf.fit(X_train, y_train) \n",
        "y_pred = clf.predict(X_test)\n",
        "err = 1 -  accuracy_score(y_test, y_pred)\n",
        "df_results = df_results.append({'Kernel': 'sigmoid', 'Reg param': 1, 'COEF0': 0, 'Degree': 3, 'Cache': 200, 'Class Weight': 'None', 'Error': err}, ignore_index=True)"
      ],
      "execution_count": 15,
      "outputs": []
    },
    {
      "cell_type": "code",
      "metadata": {
        "id": "MCvHS41pYFnB"
      },
      "source": [
        "clf = svm.SVC(kernel='sigmoid', C=1, class_weight='balanced' ) \n",
        "clf.fit(X_train, y_train) \n",
        "y_pred = clf.predict(X_test)\n",
        "err = 1 -  accuracy_score(y_test, y_pred)\n",
        "df_results = df_results.append({'Kernel': 'sigmoid', 'Reg param': 1, 'COEF0': 0, 'Degree': 3, 'Cache': 200, 'Class Weight': 'balanced', 'Error': err}, ignore_index=True)"
      ],
      "execution_count": 16,
      "outputs": []
    },
    {
      "cell_type": "code",
      "metadata": {
        "id": "cc8jLTdlYFgJ"
      },
      "source": [
        "clf = svm.SVC(kernel='linear', class_weight='balanced' ) \n",
        "clf.fit(X_train, y_train) \n",
        "y_pred = clf.predict(X_test)\n",
        "err = 1 -  accuracy_score(y_test, y_pred)\n",
        "df_results = df_results.append({'Kernel': 'linear', 'Reg param': 1, 'COEF0': 0, 'Degree': 3, 'Cache': 200, 'Class Weight': 'balanced', 'Error': err}, ignore_index=True)"
      ],
      "execution_count": 17,
      "outputs": []
    },
    {
      "cell_type": "code",
      "source": [
        "df_results"
      ],
      "metadata": {
        "id": "t8MqMfKmTVJ5",
        "outputId": "dcf69df7-6a34-44bb-f6f3-c7eded8de672",
        "colab": {
          "base_uri": "https://localhost:8080/",
          "height": 457
        }
      },
      "execution_count": 18,
      "outputs": [
        {
          "output_type": "execute_result",
          "data": {
            "text/plain": [
              "     Kernel Reg param COEF0 Degree Cache Class Weight   Error\n",
              "0       rbf         1     0      3   200     balanced  0.0204\n",
              "1      poly         1     0      4   200     balanced  0.0301\n",
              "2    linear         1     0      3   200         None  0.0596\n",
              "3       rbf         1     0      3   200         None  0.0208\n",
              "4       rbf       0.9     0      3   300         None  0.0214\n",
              "5      poly         1     0      3   200         None  0.0229\n",
              "6      poly       0.5     0      3   200         None  0.0269\n",
              "7      poly       1.5     0      3   200         None  0.0222\n",
              "8      poly       0.5     0      4   200         None  0.0355\n",
              "9      poly         1     0      2   200         None  0.0226\n",
              "10  sigmoid         1     0      3   200         None  0.2321\n",
              "11  sigmoid         1     0      3   200     balanced  0.2324\n",
              "12   linear         1     0      3   200     balanced  0.0598"
            ],
            "text/html": [
              "\n",
              "  <div id=\"df-d3cf9849-b6ca-4a08-9582-9bc084eae778\">\n",
              "    <div class=\"colab-df-container\">\n",
              "      <div>\n",
              "<style scoped>\n",
              "    .dataframe tbody tr th:only-of-type {\n",
              "        vertical-align: middle;\n",
              "    }\n",
              "\n",
              "    .dataframe tbody tr th {\n",
              "        vertical-align: top;\n",
              "    }\n",
              "\n",
              "    .dataframe thead th {\n",
              "        text-align: right;\n",
              "    }\n",
              "</style>\n",
              "<table border=\"1\" class=\"dataframe\">\n",
              "  <thead>\n",
              "    <tr style=\"text-align: right;\">\n",
              "      <th></th>\n",
              "      <th>Kernel</th>\n",
              "      <th>Reg param</th>\n",
              "      <th>COEF0</th>\n",
              "      <th>Degree</th>\n",
              "      <th>Cache</th>\n",
              "      <th>Class Weight</th>\n",
              "      <th>Error</th>\n",
              "    </tr>\n",
              "  </thead>\n",
              "  <tbody>\n",
              "    <tr>\n",
              "      <th>0</th>\n",
              "      <td>rbf</td>\n",
              "      <td>1</td>\n",
              "      <td>0</td>\n",
              "      <td>3</td>\n",
              "      <td>200</td>\n",
              "      <td>balanced</td>\n",
              "      <td>0.0204</td>\n",
              "    </tr>\n",
              "    <tr>\n",
              "      <th>1</th>\n",
              "      <td>poly</td>\n",
              "      <td>1</td>\n",
              "      <td>0</td>\n",
              "      <td>4</td>\n",
              "      <td>200</td>\n",
              "      <td>balanced</td>\n",
              "      <td>0.0301</td>\n",
              "    </tr>\n",
              "    <tr>\n",
              "      <th>2</th>\n",
              "      <td>linear</td>\n",
              "      <td>1</td>\n",
              "      <td>0</td>\n",
              "      <td>3</td>\n",
              "      <td>200</td>\n",
              "      <td>None</td>\n",
              "      <td>0.0596</td>\n",
              "    </tr>\n",
              "    <tr>\n",
              "      <th>3</th>\n",
              "      <td>rbf</td>\n",
              "      <td>1</td>\n",
              "      <td>0</td>\n",
              "      <td>3</td>\n",
              "      <td>200</td>\n",
              "      <td>None</td>\n",
              "      <td>0.0208</td>\n",
              "    </tr>\n",
              "    <tr>\n",
              "      <th>4</th>\n",
              "      <td>rbf</td>\n",
              "      <td>0.9</td>\n",
              "      <td>0</td>\n",
              "      <td>3</td>\n",
              "      <td>300</td>\n",
              "      <td>None</td>\n",
              "      <td>0.0214</td>\n",
              "    </tr>\n",
              "    <tr>\n",
              "      <th>5</th>\n",
              "      <td>poly</td>\n",
              "      <td>1</td>\n",
              "      <td>0</td>\n",
              "      <td>3</td>\n",
              "      <td>200</td>\n",
              "      <td>None</td>\n",
              "      <td>0.0229</td>\n",
              "    </tr>\n",
              "    <tr>\n",
              "      <th>6</th>\n",
              "      <td>poly</td>\n",
              "      <td>0.5</td>\n",
              "      <td>0</td>\n",
              "      <td>3</td>\n",
              "      <td>200</td>\n",
              "      <td>None</td>\n",
              "      <td>0.0269</td>\n",
              "    </tr>\n",
              "    <tr>\n",
              "      <th>7</th>\n",
              "      <td>poly</td>\n",
              "      <td>1.5</td>\n",
              "      <td>0</td>\n",
              "      <td>3</td>\n",
              "      <td>200</td>\n",
              "      <td>None</td>\n",
              "      <td>0.0222</td>\n",
              "    </tr>\n",
              "    <tr>\n",
              "      <th>8</th>\n",
              "      <td>poly</td>\n",
              "      <td>0.5</td>\n",
              "      <td>0</td>\n",
              "      <td>4</td>\n",
              "      <td>200</td>\n",
              "      <td>None</td>\n",
              "      <td>0.0355</td>\n",
              "    </tr>\n",
              "    <tr>\n",
              "      <th>9</th>\n",
              "      <td>poly</td>\n",
              "      <td>1</td>\n",
              "      <td>0</td>\n",
              "      <td>2</td>\n",
              "      <td>200</td>\n",
              "      <td>None</td>\n",
              "      <td>0.0226</td>\n",
              "    </tr>\n",
              "    <tr>\n",
              "      <th>10</th>\n",
              "      <td>sigmoid</td>\n",
              "      <td>1</td>\n",
              "      <td>0</td>\n",
              "      <td>3</td>\n",
              "      <td>200</td>\n",
              "      <td>None</td>\n",
              "      <td>0.2321</td>\n",
              "    </tr>\n",
              "    <tr>\n",
              "      <th>11</th>\n",
              "      <td>sigmoid</td>\n",
              "      <td>1</td>\n",
              "      <td>0</td>\n",
              "      <td>3</td>\n",
              "      <td>200</td>\n",
              "      <td>balanced</td>\n",
              "      <td>0.2324</td>\n",
              "    </tr>\n",
              "    <tr>\n",
              "      <th>12</th>\n",
              "      <td>linear</td>\n",
              "      <td>1</td>\n",
              "      <td>0</td>\n",
              "      <td>3</td>\n",
              "      <td>200</td>\n",
              "      <td>balanced</td>\n",
              "      <td>0.0598</td>\n",
              "    </tr>\n",
              "  </tbody>\n",
              "</table>\n",
              "</div>\n",
              "      <button class=\"colab-df-convert\" onclick=\"convertToInteractive('df-d3cf9849-b6ca-4a08-9582-9bc084eae778')\"\n",
              "              title=\"Convert this dataframe to an interactive table.\"\n",
              "              style=\"display:none;\">\n",
              "        \n",
              "  <svg xmlns=\"http://www.w3.org/2000/svg\" height=\"24px\"viewBox=\"0 0 24 24\"\n",
              "       width=\"24px\">\n",
              "    <path d=\"M0 0h24v24H0V0z\" fill=\"none\"/>\n",
              "    <path d=\"M18.56 5.44l.94 2.06.94-2.06 2.06-.94-2.06-.94-.94-2.06-.94 2.06-2.06.94zm-11 1L8.5 8.5l.94-2.06 2.06-.94-2.06-.94L8.5 2.5l-.94 2.06-2.06.94zm10 10l.94 2.06.94-2.06 2.06-.94-2.06-.94-.94-2.06-.94 2.06-2.06.94z\"/><path d=\"M17.41 7.96l-1.37-1.37c-.4-.4-.92-.59-1.43-.59-.52 0-1.04.2-1.43.59L10.3 9.45l-7.72 7.72c-.78.78-.78 2.05 0 2.83L4 21.41c.39.39.9.59 1.41.59.51 0 1.02-.2 1.41-.59l7.78-7.78 2.81-2.81c.8-.78.8-2.07 0-2.86zM5.41 20L4 18.59l7.72-7.72 1.47 1.35L5.41 20z\"/>\n",
              "  </svg>\n",
              "      </button>\n",
              "      \n",
              "  <style>\n",
              "    .colab-df-container {\n",
              "      display:flex;\n",
              "      flex-wrap:wrap;\n",
              "      gap: 12px;\n",
              "    }\n",
              "\n",
              "    .colab-df-convert {\n",
              "      background-color: #E8F0FE;\n",
              "      border: none;\n",
              "      border-radius: 50%;\n",
              "      cursor: pointer;\n",
              "      display: none;\n",
              "      fill: #1967D2;\n",
              "      height: 32px;\n",
              "      padding: 0 0 0 0;\n",
              "      width: 32px;\n",
              "    }\n",
              "\n",
              "    .colab-df-convert:hover {\n",
              "      background-color: #E2EBFA;\n",
              "      box-shadow: 0px 1px 2px rgba(60, 64, 67, 0.3), 0px 1px 3px 1px rgba(60, 64, 67, 0.15);\n",
              "      fill: #174EA6;\n",
              "    }\n",
              "\n",
              "    [theme=dark] .colab-df-convert {\n",
              "      background-color: #3B4455;\n",
              "      fill: #D2E3FC;\n",
              "    }\n",
              "\n",
              "    [theme=dark] .colab-df-convert:hover {\n",
              "      background-color: #434B5C;\n",
              "      box-shadow: 0px 1px 3px 1px rgba(0, 0, 0, 0.15);\n",
              "      filter: drop-shadow(0px 1px 2px rgba(0, 0, 0, 0.3));\n",
              "      fill: #FFFFFF;\n",
              "    }\n",
              "  </style>\n",
              "\n",
              "      <script>\n",
              "        const buttonEl =\n",
              "          document.querySelector('#df-d3cf9849-b6ca-4a08-9582-9bc084eae778 button.colab-df-convert');\n",
              "        buttonEl.style.display =\n",
              "          google.colab.kernel.accessAllowed ? 'block' : 'none';\n",
              "\n",
              "        async function convertToInteractive(key) {\n",
              "          const element = document.querySelector('#df-d3cf9849-b6ca-4a08-9582-9bc084eae778');\n",
              "          const dataTable =\n",
              "            await google.colab.kernel.invokeFunction('convertToInteractive',\n",
              "                                                     [key], {});\n",
              "          if (!dataTable) return;\n",
              "\n",
              "          const docLinkHtml = 'Like what you see? Visit the ' +\n",
              "            '<a target=\"_blank\" href=https://colab.research.google.com/notebooks/data_table.ipynb>data table notebook</a>'\n",
              "            + ' to learn more about interactive tables.';\n",
              "          element.innerHTML = '';\n",
              "          dataTable['output_type'] = 'display_data';\n",
              "          await google.colab.output.renderOutput(dataTable, element);\n",
              "          const docLink = document.createElement('div');\n",
              "          docLink.innerHTML = docLinkHtml;\n",
              "          element.appendChild(docLink);\n",
              "        }\n",
              "      </script>\n",
              "    </div>\n",
              "  </div>\n",
              "  "
            ]
          },
          "metadata": {},
          "execution_count": 18
        }
      ]
    }
  ]
}